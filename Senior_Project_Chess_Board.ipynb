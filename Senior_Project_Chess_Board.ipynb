{
 "cells": [
  {
   "cell_type": "code",
   "execution_count": null,
   "id": "69a32944",
   "metadata": {},
   "outputs": [],
   "source": [
    "# import required module\n",
    "import chess\n",
    " \n",
    "# create board object\n",
    "board=chess.Board()\n",
    "\n",
    "while not board.is_checkmate():\n",
    "    # display chess board\n",
    "    print(board)\n",
    "    print()\n",
    "\n",
    "    # legal moves\n",
    "    print(board.legal_moves)\n",
    "    print()\n",
    "\n",
    "    # move piece\n",
    "    while True:\n",
    "        player_move = input()\n",
    "        print()\n",
    "        try:\n",
    "            # possible_moves = list(board.legal_moves)\n",
    "            # print(possible_moves)\n",
    "            move = board.push_san(player_move)\n",
    "            break\n",
    "        except:\n",
    "            print(\"Illegal move, try again\")\n",
    "            pass\n",
    "    move_from = (str(move)[:2])\n",
    "    move_to = (str(move)[2:])\n",
    "    print(move_from + \" to \" + move_to)\n",
    "\n",
    "# board.push_san(\"e4\")\n",
    "# # Move.from_uci('e2e4')\n",
    "# print(board)\n",
    "# board.push_san(\"e5\")\n",
    "# # Move.from_uci('e7e5')\n",
    "# print(board)\n",
    "# board.push_san(\"Qh5\")\n",
    "# # Move.from_uci('d1h5')\n",
    "# print(board)\n",
    "# board.push_san(\"Nc6\")\n",
    "# # Move.from_uci('b8c6')\n",
    "# print(board)\n",
    "# board.push_san(\"Bc4\")\n",
    "# # Move.from_uci('f1c4')\n",
    "# print(board)\n",
    "# board.push_san(\"Nf6\")\n",
    "# # Move.from_uci('g8f6')\n",
    "# print(board)\n",
    "# board.push_san(\"Qxf7\")\n",
    "# # Move.from_uci('h5f7')\n",
    "# print(board)\n"
   ]
  },
  {
   "cell_type": "markdown",
   "id": "aac8186a",
   "metadata": {},
   "source": []
  }
 ],
 "metadata": {
  "kernelspec": {
   "display_name": "Python 3 (ipykernel)",
   "language": "python",
   "name": "python3"
  },
  "language_info": {
   "codemirror_mode": {
    "name": "ipython",
    "version": 3
   },
   "file_extension": ".py",
   "mimetype": "text/x-python",
   "name": "python",
   "nbconvert_exporter": "python",
   "pygments_lexer": "ipython3",
   "version": "3.9.7"
  }
 },
 "nbformat": 4,
 "nbformat_minor": 5
}
